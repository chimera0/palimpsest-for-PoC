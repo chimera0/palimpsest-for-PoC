{
 "cells": [
  {
   "cell_type": "markdown",
   "metadata": {},
   "source": [
    "# 信号拡張モード"
   ]
  },
  {
   "cell_type": "code",
   "execution_count": 1,
   "metadata": {
    "ExecuteTime": {
     "end_time": "2018-01-07T11:17:52.066476Z",
     "start_time": "2018-01-07T11:17:51.939866Z"
    },
    "collapsed": true
   },
   "outputs": [],
   "source": [
    "import pywt"
   ]
  },
  {
   "cell_type": "markdown",
   "metadata": {
    "ExecuteTime": {
     "end_time": "2018-01-07T11:10:15.201401Z",
     "start_time": "2018-01-07T11:10:15.142907Z"
    }
   },
   "source": [
    "- 利用可能な信号拡張モードを列挙してみる。"
   ]
  },
  {
   "cell_type": "code",
   "execution_count": 2,
   "metadata": {
    "ExecuteTime": {
     "end_time": "2018-01-07T11:17:52.079643Z",
     "start_time": "2018-01-07T11:17:52.069794Z"
    }
   },
   "outputs": [
    {
     "name": "stdout",
     "output_type": "stream",
     "text": [
      "['zero', 'constant', 'symmetric', 'periodic', 'smooth', 'periodization', 'reflect']\n"
     ]
    }
   ],
   "source": [
    "print(pywt.Modes.modes)"
   ]
  },
  {
   "cell_type": "markdown",
   "metadata": {},
   "source": [
    "- `Modes` クラスの属性を利用することでモードを参照することもできる。"
   ]
  },
  {
   "cell_type": "code",
   "execution_count": 3,
   "metadata": {
    "ExecuteTime": {
     "end_time": "2018-01-07T11:17:52.103423Z",
     "start_time": "2018-01-07T11:17:52.088193Z"
    }
   },
   "outputs": [
    {
     "name": "stdout",
     "output_type": "stream",
     "text": [
      "Mode: 0 (zero)\n",
      "Mode: 2 (constant)\n",
      "Mode: 1 (symmetric)\n",
      "Mode: 6 (reflect)\n",
      "Mode: 4 (periodic)\n",
      "Mode: 3 (smooth)\n",
      "Mode: 5 (periodization)\n"
     ]
    }
   ],
   "source": [
    "x = [1, 2, 1, 5, -1, 8, 4, 6]\n",
    "for mode_name in [\"zero\", \"constant\", \"symmetric\", \"reflect\", \"periodic\", \"smooth\", \"periodization\"]:\n",
    "    mode = getattr(pywt.Modes, mode_name)\n",
    "    cA, cD = pywt.dwt(x, \"db2\", mode)\n",
    "    print(\"Mode: %d (%s)\" % (mode, mode_name))"
   ]
  },
  {
   "cell_type": "markdown",
   "metadata": {},
   "source": [
    "- デフォルトのモードは `symmetric` になっている。"
   ]
  },
  {
   "cell_type": "code",
   "execution_count": 4,
   "metadata": {
    "ExecuteTime": {
     "end_time": "2018-01-07T11:17:52.120415Z",
     "start_time": "2018-01-07T11:17:52.108835Z"
    }
   },
   "outputs": [
    {
     "name": "stdout",
     "output_type": "stream",
     "text": [
      "[ 1.76776695  1.73309178  3.40612438  6.32928585  7.77817459]\n",
      "[-0.61237244 -2.15599552 -5.95034847 -1.21545369  1.22474487]\n"
     ]
    }
   ],
   "source": [
    "cA, cD = pywt.dwt(x, \"db2\")\n",
    "print(cA)\n",
    "print(cD)"
   ]
  },
  {
   "cell_type": "code",
   "execution_count": 5,
   "metadata": {
    "ExecuteTime": {
     "end_time": "2018-01-07T11:17:52.129828Z",
     "start_time": "2018-01-07T11:17:52.123161Z"
    }
   },
   "outputs": [
    {
     "name": "stdout",
     "output_type": "stream",
     "text": [
      "[ 1.  2.  1.  5. -1.  8.  4.  6.]\n"
     ]
    }
   ],
   "source": [
    "print(pywt.idwt(cA, cD, \"db2\"))"
   ]
  },
  {
   "cell_type": "markdown",
   "metadata": {},
   "source": [
    "- キーワードでモード名を入力することで利用することもできる。"
   ]
  },
  {
   "cell_type": "code",
   "execution_count": 6,
   "metadata": {
    "ExecuteTime": {
     "end_time": "2018-01-07T11:17:52.142852Z",
     "start_time": "2018-01-07T11:17:52.132308Z"
    }
   },
   "outputs": [
    {
     "name": "stdout",
     "output_type": "stream",
     "text": [
      "[ 1.76776695  1.73309178  3.40612438  6.32928585  7.77817459]\n",
      "[-0.61237244 -2.15599552 -5.95034847 -1.21545369  1.22474487]\n"
     ]
    }
   ],
   "source": [
    "cA, cD = pywt.dwt(x, \"db2\", mode=\"symmetric\")\n",
    "print(cA)\n",
    "print(cD)"
   ]
  },
  {
   "cell_type": "code",
   "execution_count": 7,
   "metadata": {
    "ExecuteTime": {
     "end_time": "2018-01-07T11:17:52.154307Z",
     "start_time": "2018-01-07T11:17:52.145405Z"
    }
   },
   "outputs": [
    {
     "name": "stdout",
     "output_type": "stream",
     "text": [
      "[ 1.  2.  1.  5. -1.  8.  4.  6.]\n"
     ]
    }
   ],
   "source": [
    "print(pywt.idwt(cA, cD, \"db2\"))"
   ]
  },
  {
   "cell_type": "markdown",
   "metadata": {},
   "source": [
    "# 参考資料\n",
    "\n",
    "- [Signal Extension Modes &#8212; PyWavelets Documentation](https://pywavelets.readthedocs.io/en/latest/regression/modes.html) (アクセス日時： 2018/01/07 20:18）"
   ]
  }
 ],
 "metadata": {
  "kernelspec": {
   "display_name": "Python 3",
   "language": "python",
   "name": "python3"
  },
  "language_info": {
   "codemirror_mode": {
    "name": "ipython",
    "version": 3
   },
   "file_extension": ".py",
   "mimetype": "text/x-python",
   "name": "python",
   "nbconvert_exporter": "python",
   "pygments_lexer": "ipython3",
   "version": "3.6.1"
  },
  "nbTranslate": {
   "displayLangs": [
    "*"
   ],
   "hotkey": "alt-t",
   "langInMainMenu": true,
   "sourceLang": "en",
   "targetLang": "fr",
   "useGoogleTranslate": true
  },
  "toc": {
   "nav_menu": {},
   "number_sections": true,
   "sideBar": true,
   "skip_h1_title": true,
   "toc_cell": false,
   "toc_position": {},
   "toc_section_display": "block",
   "toc_window_display": false
  }
 },
 "nbformat": 4,
 "nbformat_minor": 2
}
