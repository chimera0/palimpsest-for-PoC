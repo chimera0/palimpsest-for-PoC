{
 "cells": [
  {
   "cell_type": "code",
   "execution_count": 1,
   "metadata": {
    "ExecuteTime": {
     "end_time": "2018-01-21T07:33:16.868145Z",
     "start_time": "2018-01-21T07:33:16.862753Z"
    },
    "collapsed": true
   },
   "outputs": [],
   "source": [
    "import py_d3"
   ]
  },
  {
   "cell_type": "code",
   "execution_count": 2,
   "metadata": {
    "ExecuteTime": {
     "end_time": "2018-01-21T07:33:27.630475Z",
     "start_time": "2018-01-21T07:33:27.623861Z"
    },
    "collapsed": true
   },
   "outputs": [],
   "source": [
    "py_d3.load_ipython_extension(get_ipython())"
   ]
  },
  {
   "cell_type": "code",
   "execution_count": 5,
   "metadata": {
    "ExecuteTime": {
     "end_time": "2018-01-21T07:35:06.149916Z",
     "start_time": "2018-01-21T07:35:06.139559Z"
    }
   },
   "outputs": [
    {
     "data": {
      "text/html": [
       "\n",
       "<script>\n",
       "requirejs.config({\n",
       "    paths: {\n",
       "        d3: \"//cdnjs.cloudflare.com/ajax/libs/d3/3.5.17/d3\"\n",
       "    }\n",
       "});\n",
       "\n",
       "require(['d3'], function(d3) {\n",
       "    window.d3 = d3;\n",
       "});\n",
       "</script>\n",
       "<script>\n",
       "_select = d3.select;\n",
       "\n",
       "d3.select1 = function(selection) {\n",
       "    return _select(\"#d3-cell-1\").select(selection);\n",
       "}\n",
       "d3.selectAll1 = function(selection) {\n",
       "    return _select(\"#d3-cell-1\").selectAll(selection);\n",
       "}\n",
       "</script>\n",
       "<g id=\"d3-cell-1\">\n",
       "\n",
       "<g></g>\n",
       "\n",
       "<script>\n",
       "d3.select1(\"g\").text(\"Hello World\")\n",
       "</script\n",
       "</g>"
      ],
      "text/plain": [
       "<IPython.core.display.HTML object>"
      ]
     },
     "metadata": {},
     "output_type": "display_data"
    }
   ],
   "source": [
    "%%d3\n",
    "\n",
    "<g></g>\n",
    "\n",
    "<script>\n",
    "d3.select(\"g\").text(\"Hello World\")\n",
    "</script"
   ]
  },
  {
   "cell_type": "code",
   "execution_count": 6,
   "metadata": {
    "ExecuteTime": {
     "end_time": "2018-01-21T07:38:08.136692Z",
     "start_time": "2018-01-21T07:38:08.127836Z"
    }
   },
   "outputs": [
    {
     "data": {
      "text/html": [
       "\n",
       "<script>\n",
       "requirejs.config({\n",
       "    paths: {\n",
       "        d3: \"//cdnjs.cloudflare.com/ajax/libs/d3/3.5.2/d3\"\n",
       "    }\n",
       "});\n",
       "\n",
       "require(['d3'], function(d3) {\n",
       "    window.d3 = d3;\n",
       "});\n",
       "</script>\n",
       "<script>\n",
       "_select = d3.select;\n",
       "\n",
       "d3.select2 = function(selection) {\n",
       "    return _select(\"#d3-cell-2\").select(selection);\n",
       "}\n",
       "d3.selectAll2 = function(selection) {\n",
       "    return _select(\"#d3-cell-2\").selectAll(selection);\n",
       "}\n",
       "</script>\n",
       "<g id=\"d3-cell-2\">\n",
       "\n",
       "<g></g>\n",
       "\n",
       "<style>\n",
       "element {\n",
       "    height: 25px;\n",
       "}\n",
       "\n",
       "div.bar {\n",
       "    display: inline-block;\n",
       "    width: 20px;\n",
       "    height: 75px;\n",
       "    margin-right: 2px;\n",
       "    background-color: teal;\n",
       "}\n",
       "</style>\n",
       "\n",
       "<script>\n",
       "var dataset = [5, 10, 13, 19, 21, 25, 22, 18, 15, 13];\n",
       "\n",
       "d3.select2(\"g\").selectAll(\"div\").data(dataset).enter().append(\"div\").attr(\"class\", \"bar\").style(\"height\", function(d) {\n",
       "    var barHeight = d * 5;\n",
       "    return barHeight + \"px\";\n",
       "});\n",
       "</script>\n",
       "\n",
       "\n",
       "</g>"
      ],
      "text/plain": [
       "<IPython.core.display.HTML object>"
      ]
     },
     "metadata": {},
     "output_type": "display_data"
    }
   ],
   "source": [
    "%%d3 3.5.2\n",
    "\n",
    "<g></g>\n",
    "\n",
    "<style>\n",
    "element {\n",
    "    height: 25px;\n",
    "}\n",
    "\n",
    "div.bar {\n",
    "    display: inline-block;\n",
    "    width: 20px;\n",
    "    height: 75px;\n",
    "    margin-right: 2px;\n",
    "    background-color: teal;\n",
    "}\n",
    "</style>\n",
    "\n",
    "<script>\n",
    "var dataset = [5, 10, 13, 19, 21, 25, 22, 18, 15, 13];\n",
    "\n",
    "d3.select(\"g\").selectAll(\"div\").data(dataset).enter().append(\"div\").attr(\"class\", \"bar\").style(\"height\", function(d) {\n",
    "    var barHeight = d * 5;\n",
    "    return barHeight + \"px\";\n",
    "});\n",
    "</script>\n",
    "\n",
    "\n"
   ]
  },
  {
   "cell_type": "code",
   "execution_count": null,
   "metadata": {
    "collapsed": true
   },
   "outputs": [],
   "source": []
  }
 ],
 "metadata": {
  "kernelspec": {
   "display_name": "Python 3",
   "language": "python",
   "name": "python3"
  },
  "language_info": {
   "codemirror_mode": {
    "name": "ipython",
    "version": 3
   },
   "file_extension": ".py",
   "mimetype": "text/x-python",
   "name": "python",
   "nbconvert_exporter": "python",
   "pygments_lexer": "ipython3",
   "version": "3.6.1"
  },
  "nbTranslate": {
   "displayLangs": [
    "*"
   ],
   "hotkey": "alt-t",
   "langInMainMenu": true,
   "sourceLang": "en",
   "targetLang": "fr",
   "useGoogleTranslate": true
  },
  "toc": {
   "nav_menu": {},
   "number_sections": true,
   "sideBar": true,
   "skip_h1_title": true,
   "toc_cell": false,
   "toc_position": {},
   "toc_section_display": "block",
   "toc_window_display": false
  }
 },
 "nbformat": 4,
 "nbformat_minor": 2
}
