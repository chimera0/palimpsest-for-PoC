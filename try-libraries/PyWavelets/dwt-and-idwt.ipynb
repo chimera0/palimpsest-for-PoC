{
 "cells": [
  {
   "cell_type": "markdown",
   "metadata": {},
   "source": [
    "# 離散ウェーブレット変換\n",
    "\n",
    "- `db2` ウェーブレットにより、離散ウェーブレット変換を実行してみる。"
   ]
  },
  {
   "cell_type": "code",
   "execution_count": 1,
   "metadata": {
    "ExecuteTime": {
     "end_time": "2018-01-08T01:34:54.028187Z",
     "start_time": "2018-01-08T01:34:53.786310Z"
    },
    "collapsed": true
   },
   "outputs": [],
   "source": [
    "import pywt\n",
    "x = [3, 7, 1, 1, -2, 5, 4, 6]\n",
    "cA, cD = pywt.dwt(x, \"db2\")"
   ]
  },
  {
   "cell_type": "markdown",
   "metadata": {},
   "source": [
    "- 近似(Approximation)係数と詳細(Detail)係数（ウェーブレット係数）が、それぞれ `cA` と　`cD` で得られる。"
   ]
  },
  {
   "cell_type": "code",
   "execution_count": 2,
   "metadata": {
    "ExecuteTime": {
     "end_time": "2018-01-08T01:38:04.153887Z",
     "start_time": "2018-01-08T01:38:04.146944Z"
    }
   },
   "outputs": [
    {
     "name": "stdout",
     "output_type": "stream",
     "text": [
      "[ 5.65685425  7.39923721  0.22414387  3.33677403  7.77817459]\n"
     ]
    }
   ],
   "source": [
    "print(cA)"
   ]
  },
  {
   "cell_type": "code",
   "execution_count": 3,
   "metadata": {
    "ExecuteTime": {
     "end_time": "2018-01-08T01:38:06.522989Z",
     "start_time": "2018-01-08T01:38:06.516439Z"
    }
   },
   "outputs": [
    {
     "name": "stdout",
     "output_type": "stream",
     "text": [
      "[-2.44948974 -1.60368225 -4.44140056 -0.41361256  1.22474487]\n"
     ]
    }
   ],
   "source": [
    "print(cD)"
   ]
  },
  {
   "cell_type": "markdown",
   "metadata": {},
   "source": [
    "# 逆離散ウェーブレット変換\n",
    "\n",
    "- 逆変換も次のように実行できる。"
   ]
  },
  {
   "cell_type": "code",
   "execution_count": 4,
   "metadata": {
    "ExecuteTime": {
     "end_time": "2018-01-08T01:39:28.221895Z",
     "start_time": "2018-01-08T01:39:28.211157Z"
    }
   },
   "outputs": [
    {
     "name": "stdout",
     "output_type": "stream",
     "text": [
      "[ 3.  7.  1.  1. -2.  5.  4.  6.]\n"
     ]
    }
   ],
   "source": [
    "print(pywt.idwt(cA, cD, \"db2\"))"
   ]
  },
  {
   "cell_type": "markdown",
   "metadata": {},
   "source": [
    "# 参考資料\n",
    "\n",
    "- [DWT and IDWT &#8212; PyWavelets Documentation](https://pywavelets.readthedocs.io/en/latest/regression/dwt-idwt.html) (アクセス日時：\n",
    "2018/01/08 10:44)"
   ]
  }
 ],
 "metadata": {
  "kernelspec": {
   "display_name": "Python 3",
   "language": "python",
   "name": "python3"
  },
  "language_info": {
   "codemirror_mode": {
    "name": "ipython",
    "version": 3
   },
   "file_extension": ".py",
   "mimetype": "text/x-python",
   "name": "python",
   "nbconvert_exporter": "python",
   "pygments_lexer": "ipython3",
   "version": "3.6.1"
  },
  "nbTranslate": {
   "displayLangs": [
    "*"
   ],
   "hotkey": "alt-t",
   "langInMainMenu": true,
   "sourceLang": "en",
   "targetLang": "fr",
   "useGoogleTranslate": true
  },
  "toc": {
   "nav_menu": {},
   "number_sections": true,
   "sideBar": true,
   "skip_h1_title": true,
   "toc_cell": false,
   "toc_position": {},
   "toc_section_display": "block",
   "toc_window_display": false
  }
 },
 "nbformat": 4,
 "nbformat_minor": 2
}
