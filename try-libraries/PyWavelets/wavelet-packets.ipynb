{
 "cells": [
  {
   "cell_type": "code",
   "execution_count": 1,
   "metadata": {
    "ExecuteTime": {
     "end_time": "2018-01-13T04:37:06.435269Z",
     "start_time": "2018-01-13T04:37:06.143233Z"
    },
    "collapsed": true
   },
   "outputs": [],
   "source": [
    "import pywt"
   ]
  },
  {
   "cell_type": "markdown",
   "metadata": {},
   "source": [
    "## ウェーブレットパケット構造\n",
    "\n",
    "- ウェーブレットパケットを生成してみる。"
   ]
  },
  {
   "cell_type": "code",
   "execution_count": 2,
   "metadata": {
    "ExecuteTime": {
     "end_time": "2018-01-13T04:38:27.929653Z",
     "start_time": "2018-01-13T04:38:27.924542Z"
    },
    "collapsed": true
   },
   "outputs": [],
   "source": [
    "x = [1, 2, 3 , 4, 5, 6, 7, 8]\n",
    "wp = pywt.WaveletPacket(data=x, wavelet=\"db1\", mode=\"symmetric\")"
   ]
  },
  {
   "cell_type": "markdown",
   "metadata": {},
   "source": [
    "- 入力データと各係数は、 `WaveletPacket.data` の属性で保持されている。"
   ]
  },
  {
   "cell_type": "code",
   "execution_count": 3,
   "metadata": {
    "ExecuteTime": {
     "end_time": "2018-01-13T04:39:14.936605Z",
     "start_time": "2018-01-13T04:39:14.927983Z"
    }
   },
   "outputs": [
    {
     "name": "stdout",
     "output_type": "stream",
     "text": [
      "[1, 2, 3, 4, 5, 6, 7, 8]\n"
     ]
    }
   ],
   "source": [
    "print(wp.data)"
   ]
  },
  {
   "cell_type": "markdown",
   "metadata": {},
   "source": [
    "- このオブジェクトからは、ウェーブレットパケットツリーにおけるノード(Node)を取得することができる。\n",
    "- また、ツリーの深さに照応する水準(level)も確認することができる。"
   ]
  },
  {
   "cell_type": "code",
   "execution_count": 4,
   "metadata": {
    "ExecuteTime": {
     "end_time": "2018-01-13T04:40:25.704428Z",
     "start_time": "2018-01-13T04:40:25.695339Z"
    }
   },
   "outputs": [
    {
     "name": "stdout",
     "output_type": "stream",
     "text": [
      "''\n"
     ]
    }
   ],
   "source": [
    "print(repr(wp.path))"
   ]
  },
  {
   "cell_type": "markdown",
   "metadata": {},
   "source": [
    "- 返り値が `\"\"` なのは、分解の水準が  `0` であるためである。実際水準は以下のように確認できる。"
   ]
  },
  {
   "cell_type": "code",
   "execution_count": 5,
   "metadata": {
    "ExecuteTime": {
     "end_time": "2018-01-13T04:41:25.329118Z",
     "start_time": "2018-01-13T04:41:25.321730Z"
    }
   },
   "outputs": [
    {
     "name": "stdout",
     "output_type": "stream",
     "text": [
      "0\n"
     ]
    }
   ],
   "source": [
    "print(wp.level)"
   ]
  },
  {
   "cell_type": "markdown",
   "metadata": {},
   "source": [
    "- 水準の最大値は、特にパラメタで指定していない場合は、自動的に計算される。その結果は `maxlevel` の属性で保持されている。"
   ]
  },
  {
   "cell_type": "code",
   "execution_count": 6,
   "metadata": {
    "ExecuteTime": {
     "end_time": "2018-01-13T04:42:22.074188Z",
     "start_time": "2018-01-13T04:42:22.067278Z"
    }
   },
   "outputs": [
    {
     "name": "stdout",
     "output_type": "stream",
     "text": [
      "3\n"
     ]
    }
   ],
   "source": [
    "print(wp[\"ad\"].maxlevel)"
   ]
  },
  {
   "cell_type": "markdown",
   "metadata": {},
   "source": [
    "- 離散ウェーブレット変換の定式を前提とするなら、上記のキー名となっている `ad` は、恐らく近似(Approximation)と詳細(Detail)のそれぞれを表しているとしか推理できない。\n",
    "- これは後述するサブノートへのアクセスの処理で明示的に言及されるが、[API仕様](https://pywavelets.readthedocs.io/en/latest/ref/wavelet-packets.html#waveletpacket-and-waveletpacket-tree-node)と照合してみても、現時点でこの解釈には矛盾が見受けられない。"
   ]
  },
  {
   "cell_type": "markdown",
   "metadata": {},
   "source": [
    "## ツリーの横断\n",
    "\n",
    "- ウェーブレットパケットツリーの各水準における各ノードの情報や、ツリーの構造に関わる情報を順次確認していく。"
   ]
  },
  {
   "cell_type": "markdown",
   "metadata": {},
   "source": [
    "### サブノートへのアクセス\n",
    "\n",
    "- ウェーブレットパケットツリーのサブノートへのアクセスを試みる。\n",
    "- どうやら、 `a` と `d` の組み合わせから成る任意の長さの文字列でツリーへのパスを指定するらしい。\n",
    "\n",
    "#### 第一水準"
   ]
  },
  {
   "cell_type": "code",
   "execution_count": 7,
   "metadata": {
    "ExecuteTime": {
     "end_time": "2018-01-13T04:51:30.589044Z",
     "start_time": "2018-01-13T04:51:30.579813Z"
    }
   },
   "outputs": [
    {
     "name": "stdout",
     "output_type": "stream",
     "text": [
      "[  2.12132034   4.94974747   7.77817459  10.60660172]\n"
     ]
    }
   ],
   "source": [
    "print(wp[\"a\"].data)"
   ]
  },
  {
   "cell_type": "code",
   "execution_count": 8,
   "metadata": {
    "ExecuteTime": {
     "end_time": "2018-01-13T04:51:37.278577Z",
     "start_time": "2018-01-13T04:51:37.270471Z"
    }
   },
   "outputs": [
    {
     "name": "stdout",
     "output_type": "stream",
     "text": [
      "a\n"
     ]
    }
   ],
   "source": [
    "print(wp[\"a\"].path)"
   ]
  },
  {
   "cell_type": "code",
   "execution_count": 9,
   "metadata": {
    "ExecuteTime": {
     "end_time": "2018-01-13T04:51:52.709206Z",
     "start_time": "2018-01-13T04:51:52.703630Z"
    }
   },
   "outputs": [
    {
     "name": "stdout",
     "output_type": "stream",
     "text": [
      "[-0.70710678 -0.70710678 -0.70710678 -0.70710678]\n"
     ]
    }
   ],
   "source": [
    "print(wp[\"d\"].data)"
   ]
  },
  {
   "cell_type": "code",
   "execution_count": 10,
   "metadata": {
    "ExecuteTime": {
     "end_time": "2018-01-13T04:52:00.228061Z",
     "start_time": "2018-01-13T04:52:00.218844Z"
    }
   },
   "outputs": [
    {
     "name": "stdout",
     "output_type": "stream",
     "text": [
      "d\n"
     ]
    }
   ],
   "source": [
    "print(wp[\"d\"].path)"
   ]
  },
  {
   "cell_type": "markdown",
   "metadata": {},
   "source": [
    "#### 第二水準"
   ]
  },
  {
   "cell_type": "code",
   "execution_count": 11,
   "metadata": {
    "ExecuteTime": {
     "end_time": "2018-01-13T04:52:29.835028Z",
     "start_time": "2018-01-13T04:52:29.829083Z"
    }
   },
   "outputs": [
    {
     "name": "stdout",
     "output_type": "stream",
     "text": [
      "[  5.  13.]\n"
     ]
    }
   ],
   "source": [
    "print(wp[\"aa\"].data)"
   ]
  },
  {
   "cell_type": "code",
   "execution_count": 13,
   "metadata": {
    "ExecuteTime": {
     "end_time": "2018-01-13T04:52:49.643869Z",
     "start_time": "2018-01-13T04:52:49.639024Z"
    }
   },
   "outputs": [
    {
     "name": "stdout",
     "output_type": "stream",
     "text": [
      "aa\n"
     ]
    }
   ],
   "source": [
    "print(wp[\"aa\"].path)"
   ]
  },
  {
   "cell_type": "code",
   "execution_count": 14,
   "metadata": {
    "ExecuteTime": {
     "end_time": "2018-01-13T04:52:55.638659Z",
     "start_time": "2018-01-13T04:52:55.630961Z"
    }
   },
   "outputs": [
    {
     "name": "stdout",
     "output_type": "stream",
     "text": [
      "[-2. -2.]\n"
     ]
    }
   ],
   "source": [
    "print(wp[\"ad\"].data)"
   ]
  },
  {
   "cell_type": "code",
   "execution_count": 15,
   "metadata": {
    "ExecuteTime": {
     "end_time": "2018-01-13T04:53:07.324441Z",
     "start_time": "2018-01-13T04:53:07.317148Z"
    }
   },
   "outputs": [
    {
     "name": "stdout",
     "output_type": "stream",
     "text": [
      "ad\n"
     ]
    }
   ],
   "source": [
    "print(wp[\"ad\"].path)"
   ]
  },
  {
   "cell_type": "code",
   "execution_count": 16,
   "metadata": {
    "ExecuteTime": {
     "end_time": "2018-01-13T04:53:16.922523Z",
     "start_time": "2018-01-13T04:53:16.915104Z"
    }
   },
   "outputs": [
    {
     "name": "stdout",
     "output_type": "stream",
     "text": [
      "[ -1.11022302e-16   0.00000000e+00]\n"
     ]
    }
   ],
   "source": [
    "print(wp[\"dd\"].data)"
   ]
  },
  {
   "cell_type": "code",
   "execution_count": 17,
   "metadata": {
    "ExecuteTime": {
     "end_time": "2018-01-13T04:53:25.325433Z",
     "start_time": "2018-01-13T04:53:25.315711Z"
    }
   },
   "outputs": [
    {
     "name": "stdout",
     "output_type": "stream",
     "text": [
      "dd\n"
     ]
    }
   ],
   "source": [
    "print(wp[\"dd\"].path)"
   ]
  },
  {
   "cell_type": "code",
   "execution_count": 18,
   "metadata": {
    "ExecuteTime": {
     "end_time": "2018-01-13T04:53:30.683626Z",
     "start_time": "2018-01-13T04:53:30.674347Z"
    }
   },
   "outputs": [
    {
     "name": "stdout",
     "output_type": "stream",
     "text": [
      "[-1. -1.]\n"
     ]
    }
   ],
   "source": [
    "print(wp[\"da\"].data)"
   ]
  },
  {
   "cell_type": "code",
   "execution_count": 19,
   "metadata": {
    "ExecuteTime": {
     "end_time": "2018-01-13T04:53:39.138759Z",
     "start_time": "2018-01-13T04:53:39.129736Z"
    }
   },
   "outputs": [
    {
     "name": "stdout",
     "output_type": "stream",
     "text": [
      "da\n"
     ]
    }
   ],
   "source": [
    "print(wp[\"da\"].path)"
   ]
  },
  {
   "cell_type": "markdown",
   "metadata": {},
   "source": [
    "#### 第三水準"
   ]
  },
  {
   "cell_type": "code",
   "execution_count": 21,
   "metadata": {
    "ExecuteTime": {
     "end_time": "2018-01-13T04:54:25.653109Z",
     "start_time": "2018-01-13T04:54:25.645360Z"
    }
   },
   "outputs": [
    {
     "name": "stdout",
     "output_type": "stream",
     "text": [
      "[ 12.72792206]\n",
      "aaa\n"
     ]
    }
   ],
   "source": [
    "print(wp[\"aaa\"].data)\n",
    "print(wp[\"aaa\"].path)"
   ]
  },
  {
   "cell_type": "markdown",
   "metadata": {},
   "source": [
    "#### 例外の水準\n",
    "\n",
    "- `maxlevel` を超過した水準を指定すると、 `IndexError` の例外がスローされる。\n"
   ]
  },
  {
   "cell_type": "code",
   "execution_count": 22,
   "metadata": {
    "ExecuteTime": {
     "end_time": "2018-01-13T04:55:22.059964Z",
     "start_time": "2018-01-13T04:55:21.842270Z"
    }
   },
   "outputs": [
    {
     "ename": "IndexError",
     "evalue": "Path length is out of range.",
     "output_type": "error",
     "traceback": [
      "\u001b[0;31m---------------------------------------------------------------------------\u001b[0m",
      "\u001b[0;31mIndexError\u001b[0m                                Traceback (most recent call last)",
      "\u001b[0;32m<ipython-input-22-c92b20f9f9f8>\u001b[0m in \u001b[0;36m<module>\u001b[0;34m()\u001b[0m\n\u001b[0;32m----> 1\u001b[0;31m \u001b[0mprint\u001b[0m\u001b[0;34m(\u001b[0m\u001b[0mwp\u001b[0m\u001b[0;34m[\u001b[0m\u001b[0;34m\"aaaa\"\u001b[0m\u001b[0;34m]\u001b[0m\u001b[0;34m.\u001b[0m\u001b[0mdata\u001b[0m\u001b[0;34m)\u001b[0m\u001b[0;34m\u001b[0m\u001b[0m\n\u001b[0m",
      "\u001b[0;32m/usr/local/bin/.pyenv/versions/anaconda3-4.4.0/lib/python3.6/site-packages/pywt/_wavelet_packets.py\u001b[0m in \u001b[0;36m__getitem__\u001b[0;34m(self, path)\u001b[0m\n\u001b[1;32m    231\u001b[0m             if (self.maxlevel is not None\n\u001b[1;32m    232\u001b[0m                     and len(path) > self.maxlevel * self.PART_LEN):\n\u001b[0;32m--> 233\u001b[0;31m                 \u001b[0;32mraise\u001b[0m \u001b[0mIndexError\u001b[0m\u001b[0;34m(\u001b[0m\u001b[0;34m\"Path length is out of range.\"\u001b[0m\u001b[0;34m)\u001b[0m\u001b[0;34m\u001b[0m\u001b[0m\n\u001b[0m\u001b[1;32m    234\u001b[0m             \u001b[0;32mif\u001b[0m \u001b[0mpath\u001b[0m\u001b[0;34m:\u001b[0m\u001b[0;34m\u001b[0m\u001b[0m\n\u001b[1;32m    235\u001b[0m                 return self.get_subnode(path[0:self.PART_LEN], True)[\n",
      "\u001b[0;31mIndexError\u001b[0m: Path length is out of range."
     ]
    }
   ],
   "source": [
    "print(wp[\"aaaa\"].data)"
   ]
  },
  {
   "cell_type": "markdown",
   "metadata": {},
   "source": [
    "- 尚、 `a` や `d` 以外の文字列でパスを指定しようとすると、 `ValueError` の例外がスローされる。"
   ]
  },
  {
   "cell_type": "code",
   "execution_count": 23,
   "metadata": {
    "ExecuteTime": {
     "end_time": "2018-01-13T04:57:14.116594Z",
     "start_time": "2018-01-13T04:57:14.097840Z"
    }
   },
   "outputs": [
    {
     "ename": "ValueError",
     "evalue": "Subnode name must be in ['a', 'd'], not 'c'.",
     "output_type": "error",
     "traceback": [
      "\u001b[0;31m---------------------------------------------------------------------------\u001b[0m",
      "\u001b[0;31mValueError\u001b[0m                                Traceback (most recent call last)",
      "\u001b[0;32m<ipython-input-23-27da7d08241b>\u001b[0m in \u001b[0;36m<module>\u001b[0;34m()\u001b[0m\n\u001b[0;32m----> 1\u001b[0;31m \u001b[0mprint\u001b[0m\u001b[0;34m(\u001b[0m\u001b[0mwp\u001b[0m\u001b[0;34m[\u001b[0m\u001b[0;34m\"ac\"\u001b[0m\u001b[0;34m]\u001b[0m\u001b[0;34m.\u001b[0m\u001b[0mdata\u001b[0m\u001b[0;34m)\u001b[0m\u001b[0;34m\u001b[0m\u001b[0m\n\u001b[0m",
      "\u001b[0;32m/usr/local/bin/.pyenv/versions/anaconda3-4.4.0/lib/python3.6/site-packages/pywt/_wavelet_packets.py\u001b[0m in \u001b[0;36m__getitem__\u001b[0;34m(self, path)\u001b[0m\n\u001b[1;32m    234\u001b[0m             \u001b[0;32mif\u001b[0m \u001b[0mpath\u001b[0m\u001b[0;34m:\u001b[0m\u001b[0;34m\u001b[0m\u001b[0m\n\u001b[1;32m    235\u001b[0m                 return self.get_subnode(path[0:self.PART_LEN], True)[\n\u001b[0;32m--> 236\u001b[0;31m                     path[self.PART_LEN:]]\n\u001b[0m\u001b[1;32m    237\u001b[0m             \u001b[0;32melse\u001b[0m\u001b[0;34m:\u001b[0m\u001b[0;34m\u001b[0m\u001b[0m\n\u001b[1;32m    238\u001b[0m                 \u001b[0;32mreturn\u001b[0m \u001b[0mself\u001b[0m\u001b[0;34m\u001b[0m\u001b[0m\n",
      "\u001b[0;32m/usr/local/bin/.pyenv/versions/anaconda3-4.4.0/lib/python3.6/site-packages/pywt/_wavelet_packets.py\u001b[0m in \u001b[0;36m__getitem__\u001b[0;34m(self, path)\u001b[0m\n\u001b[1;32m    233\u001b[0m                 \u001b[0;32mraise\u001b[0m \u001b[0mIndexError\u001b[0m\u001b[0;34m(\u001b[0m\u001b[0;34m\"Path length is out of range.\"\u001b[0m\u001b[0;34m)\u001b[0m\u001b[0;34m\u001b[0m\u001b[0m\n\u001b[1;32m    234\u001b[0m             \u001b[0;32mif\u001b[0m \u001b[0mpath\u001b[0m\u001b[0;34m:\u001b[0m\u001b[0;34m\u001b[0m\u001b[0m\n\u001b[0;32m--> 235\u001b[0;31m                 return self.get_subnode(path[0:self.PART_LEN], True)[\n\u001b[0m\u001b[1;32m    236\u001b[0m                     path[self.PART_LEN:]]\n\u001b[1;32m    237\u001b[0m             \u001b[0;32melse\u001b[0m\u001b[0;34m:\u001b[0m\u001b[0;34m\u001b[0m\u001b[0m\n",
      "\u001b[0;32m/usr/local/bin/.pyenv/versions/anaconda3-4.4.0/lib/python3.6/site-packages/pywt/_wavelet_packets.py\u001b[0m in \u001b[0;36mget_subnode\u001b[0;34m(self, part, decompose)\u001b[0m\n\u001b[1;32m    203\u001b[0m             \u001b[0;34m(\u001b[0m\u001b[0mdefault\u001b[0m\u001b[0;34m:\u001b[0m \u001b[0;32mTrue\u001b[0m\u001b[0;34m)\u001b[0m\u001b[0;34m\u001b[0m\u001b[0m\n\u001b[1;32m    204\u001b[0m         \"\"\"\n\u001b[0;32m--> 205\u001b[0;31m         \u001b[0mself\u001b[0m\u001b[0;34m.\u001b[0m\u001b[0m_validate_node_name\u001b[0m\u001b[0;34m(\u001b[0m\u001b[0mpart\u001b[0m\u001b[0;34m)\u001b[0m\u001b[0;34m\u001b[0m\u001b[0m\n\u001b[0m\u001b[1;32m    206\u001b[0m         \u001b[0msubnode\u001b[0m \u001b[0;34m=\u001b[0m \u001b[0mself\u001b[0m\u001b[0;34m.\u001b[0m\u001b[0m_get_node\u001b[0m\u001b[0;34m(\u001b[0m\u001b[0mpart\u001b[0m\u001b[0;34m)\u001b[0m\u001b[0;34m\u001b[0m\u001b[0m\n\u001b[1;32m    207\u001b[0m         \u001b[0;32mif\u001b[0m \u001b[0msubnode\u001b[0m \u001b[0;32mis\u001b[0m \u001b[0;32mNone\u001b[0m \u001b[0;32mand\u001b[0m \u001b[0mdecompose\u001b[0m \u001b[0;32mand\u001b[0m \u001b[0;32mnot\u001b[0m \u001b[0mself\u001b[0m\u001b[0;34m.\u001b[0m\u001b[0mis_empty\u001b[0m\u001b[0;34m:\u001b[0m\u001b[0;34m\u001b[0m\u001b[0m\n",
      "\u001b[0;32m/usr/local/bin/.pyenv/versions/anaconda3-4.4.0/lib/python3.6/site-packages/pywt/_wavelet_packets.py\u001b[0m in \u001b[0;36m_validate_node_name\u001b[0;34m(self, part)\u001b[0m\n\u001b[1;32m     99\u001b[0m         \u001b[0;32mif\u001b[0m \u001b[0mpart\u001b[0m \u001b[0;32mnot\u001b[0m \u001b[0;32min\u001b[0m \u001b[0mself\u001b[0m\u001b[0;34m.\u001b[0m\u001b[0mPARTS\u001b[0m\u001b[0;34m:\u001b[0m\u001b[0;34m\u001b[0m\u001b[0m\n\u001b[1;32m    100\u001b[0m             raise ValueError(\"Subnode name must be in [%s], not '%s'.\" %\n\u001b[0;32m--> 101\u001b[0;31m                              (', '.join(\"'%s'\" % p for p in self.PARTS), part))\n\u001b[0m\u001b[1;32m    102\u001b[0m \u001b[0;34m\u001b[0m\u001b[0m\n\u001b[1;32m    103\u001b[0m     \u001b[0;32mdef\u001b[0m \u001b[0m_evaluate_maxlevel\u001b[0m\u001b[0;34m(\u001b[0m\u001b[0mself\u001b[0m\u001b[0;34m,\u001b[0m \u001b[0mevaluate_from\u001b[0m\u001b[0;34m=\u001b[0m\u001b[0;34m'parent'\u001b[0m\u001b[0;34m)\u001b[0m\u001b[0;34m:\u001b[0m\u001b[0;34m\u001b[0m\u001b[0m\n",
      "\u001b[0;31mValueError\u001b[0m: Subnode name must be in ['a', 'd'], not 'c'."
     ]
    }
   ],
   "source": [
    "print(wp[\"ac\"].data)"
   ]
  },
  {
   "cell_type": "markdown",
   "metadata": {},
   "source": [
    "### ノードの属性へのアクセス\n",
    "\n",
    "- `WaveletPacket` オブジェクトはツリー状のデータ構造である。\n",
    "- このデータ構造は、各 `Node` オブジェクトの集合として評価される。\n",
    "- 論理的には、`WaveletPacket` は、`Node` クラスのサブクラスである。\n",
    "    * ちなみに `Node` クラスは `BaseNode` クラスを継承している。\n",
    "\n",
    "\n",
    "- それぞれのノードオブジェクトは、先に取り上げた `data` や `path` や `maxlevel` の他に、 `node_name` や `parent` や `level` などの属性を保持している。"
   ]
  },
  {
   "cell_type": "code",
   "execution_count": 25,
   "metadata": {
    "ExecuteTime": {
     "end_time": "2018-01-13T05:04:49.802472Z",
     "start_time": "2018-01-13T05:04:49.794811Z"
    }
   },
   "outputs": [
    {
     "name": "stdout",
     "output_type": "stream",
     "text": [
      "d\n",
      "a: [  2.12132034   4.94974747   7.77817459  10.60660172]\n",
      "a\n",
      "2\n"
     ]
    }
   ],
   "source": [
    "print(wp[\"ad\"].node_name)\n",
    "print(wp[\"ad\"].parent)\n",
    "print(wp[\"ad\"].level)"
   ]
  },
  {
   "cell_type": "markdown",
   "metadata": {},
   "source": [
    "- `parent.path` を参照すれば、親ノードのパスも得られる。"
   ]
  },
  {
   "cell_type": "code",
   "execution_count": 27,
   "metadata": {
    "ExecuteTime": {
     "end_time": "2018-01-13T05:05:08.252309Z",
     "start_time": "2018-01-13T05:05:08.247519Z"
    }
   },
   "outputs": [
    {
     "name": "stdout",
     "output_type": "stream",
     "text": [
      "aa\n"
     ]
    }
   ],
   "source": [
    "print(wp[\"aad\"].parent.path)"
   ]
  },
  {
   "cell_type": "markdown",
   "metadata": {
    "ExecuteTime": {
     "end_time": "2018-01-13T05:06:05.562419Z",
     "start_time": "2018-01-13T05:06:05.554423Z"
    }
   },
   "source": [
    "- 離散ウェーブレット変換と同じように、 `mode` も得られる。"
   ]
  },
  {
   "cell_type": "code",
   "execution_count": 29,
   "metadata": {
    "ExecuteTime": {
     "end_time": "2018-01-13T05:06:18.998988Z",
     "start_time": "2018-01-13T05:06:18.993294Z"
    }
   },
   "outputs": [
    {
     "name": "stdout",
     "output_type": "stream",
     "text": [
      "symmetric\n"
     ]
    }
   ],
   "source": [
    "print(wp[\"ad\"].mode)"
   ]
  },
  {
   "cell_type": "markdown",
   "metadata": {},
   "source": [
    "### ノードの収集\n",
    "\n",
    "- 実装水準では、パスを明示的に指定するのみならず、全てのパスを逐次参照するというユースケースもあり得る。\n",
    "- このライブラリでは、ツリー状のデータ構造のノードをどのような順序で参照していくのかを、一定の仕様で規定している。\n",
    "- 以下は `natural` でソートした場合である。\n"
   ]
  },
  {
   "cell_type": "code",
   "execution_count": 30,
   "metadata": {
    "ExecuteTime": {
     "end_time": "2018-01-13T05:10:09.577379Z",
     "start_time": "2018-01-13T05:10:09.568941Z"
    }
   },
   "outputs": [
    {
     "name": "stdout",
     "output_type": "stream",
     "text": [
      "['aaa', 'aad', 'ada', 'add', 'daa', 'dad', 'dda', 'ddd']\n"
     ]
    }
   ],
   "source": [
    "print([node.path for node in wp.get_level(3, \"natural\")])"
   ]
  },
  {
   "cell_type": "markdown",
   "metadata": {},
   "source": [
    "- 一方、以下は帯域周波数でソートした場合である。"
   ]
  },
  {
   "cell_type": "code",
   "execution_count": 31,
   "metadata": {
    "ExecuteTime": {
     "end_time": "2018-01-13T05:11:09.484629Z",
     "start_time": "2018-01-13T05:11:09.476059Z"
    }
   },
   "outputs": [
    {
     "name": "stdout",
     "output_type": "stream",
     "text": [
      "['aaa', 'aad', 'add', 'ada', 'dda', 'ddd', 'dad', 'daa']\n"
     ]
    }
   ],
   "source": [
    "print([node.path for node in wp.get_level(3, \"freq\")])"
   ]
  },
  {
   "cell_type": "markdown",
   "metadata": {},
   "source": [
    "- 尚、 `get_level` メソッドは、その第一引数である `level` で指定した数値の水準に至るまで、自動的に分解を実行する。"
   ]
  },
  {
   "cell_type": "markdown",
   "metadata": {},
   "source": [
    "### ウェーブレットパケットからのデータの再構成\n",
    "\n",
    "- 新たに `WaveletPacket` オブジェクトを生成し、幾つかのデータをセットする。"
   ]
  },
  {
   "cell_type": "code",
   "execution_count": 32,
   "metadata": {
    "ExecuteTime": {
     "end_time": "2018-01-13T05:14:25.991152Z",
     "start_time": "2018-01-13T05:14:25.980699Z"
    },
    "collapsed": true
   },
   "outputs": [],
   "source": [
    "new_wp = pywt.WaveletPacket(data=None, wavelet=\"db1\", mode=\"symmetric\")\n",
    "new_wp[\"aa\"] = wp[\"aa\"].data\n",
    "new_wp[\"ad\"] = [-2., -2.]"
   ]
  },
  {
   "cell_type": "markdown",
   "metadata": {},
   "source": [
    "- 利便性の観点から、 `Node.data` は `Node` のオブジェクトから自動的に抽出されるようにしておく。"
   ]
  },
  {
   "cell_type": "code",
   "execution_count": 33,
   "metadata": {
    "ExecuteTime": {
     "end_time": "2018-01-13T05:15:30.145682Z",
     "start_time": "2018-01-13T05:15:30.141136Z"
    },
    "collapsed": true
   },
   "outputs": [],
   "source": [
    "new_wp[\"d\"] = wp[\"d\"]"
   ]
  },
  {
   "cell_type": "markdown",
   "metadata": {},
   "source": [
    "- そして、`aa`、 `ad`、 `d` からデータを再構成する。"
   ]
  },
  {
   "cell_type": "code",
   "execution_count": 34,
   "metadata": {
    "ExecuteTime": {
     "end_time": "2018-01-13T05:16:11.010218Z",
     "start_time": "2018-01-13T05:16:10.999160Z"
    }
   },
   "outputs": [
    {
     "name": "stdout",
     "output_type": "stream",
     "text": [
      "[ 1.  2.  3.  4.  5.  6.  7.  8.]\n"
     ]
    }
   ],
   "source": [
    "print(new_wp.reconstruct(update=False))"
   ]
  },
  {
   "cell_type": "markdown",
   "metadata": {},
   "source": [
    "- もし `reconstruct` メソッドの引数となる `update` に `False` を指定したなら、 `data` の値は変わらない。"
   ]
  },
  {
   "cell_type": "code",
   "execution_count": 35,
   "metadata": {
    "ExecuteTime": {
     "end_time": "2018-01-13T05:17:13.244481Z",
     "start_time": "2018-01-13T05:17:13.238686Z"
    }
   },
   "outputs": [
    {
     "name": "stdout",
     "output_type": "stream",
     "text": [
      "None\n"
     ]
    }
   ],
   "source": [
    "print(new_wp.data)"
   ]
  },
  {
   "cell_type": "markdown",
   "metadata": {},
   "source": [
    "- 反面、同引数に `True` を指定した場合、 `data` の値は文字通り更新される。"
   ]
  },
  {
   "cell_type": "code",
   "execution_count": 36,
   "metadata": {
    "ExecuteTime": {
     "end_time": "2018-01-13T05:18:02.896191Z",
     "start_time": "2018-01-13T05:18:02.883796Z"
    }
   },
   "outputs": [
    {
     "name": "stdout",
     "output_type": "stream",
     "text": [
      "[ 1.  2.  3.  4.  5.  6.  7.  8.]\n",
      "[ 1.  2.  3.  4.  5.  6.  7.  8.]\n"
     ]
    }
   ],
   "source": [
    "print(new_wp.reconstruct(update=True))\n",
    "print(new_wp.data)"
   ]
  },
  {
   "cell_type": "markdown",
   "metadata": {},
   "source": [
    "# 参考資料\n",
    "\n",
    "- [Wavelet Packets &#8212; PyWavelets Documentation](https://pywavelets.readthedocs.io/en/latest/regression/wp.html) (アクセス日時: 2018/01/13 14:20)"
   ]
  }
 ],
 "metadata": {
  "kernelspec": {
   "display_name": "Python 3",
   "language": "python",
   "name": "python3"
  },
  "language_info": {
   "codemirror_mode": {
    "name": "ipython",
    "version": 3
   },
   "file_extension": ".py",
   "mimetype": "text/x-python",
   "name": "python",
   "nbconvert_exporter": "python",
   "pygments_lexer": "ipython3",
   "version": "3.6.1"
  },
  "nbTranslate": {
   "displayLangs": [
    "*"
   ],
   "hotkey": "alt-t",
   "langInMainMenu": true,
   "sourceLang": "en",
   "targetLang": "fr",
   "useGoogleTranslate": true
  },
  "toc": {
   "nav_menu": {},
   "number_sections": true,
   "sideBar": true,
   "skip_h1_title": true,
   "toc_cell": false,
   "toc_position": {},
   "toc_section_display": "block",
   "toc_window_display": false
  }
 },
 "nbformat": 4,
 "nbformat_minor": 2
}
