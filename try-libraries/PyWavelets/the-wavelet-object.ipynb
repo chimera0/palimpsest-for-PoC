{
 "cells": [
  {
   "cell_type": "markdown",
   "metadata": {},
   "source": [
    "# ウェーブレットオブジェクト\n",
    "\n",
    "## ウェーブレットの族とウェーブレット名の立ち上げ\n",
    "\n",
    "- ウェーブレットオブジェクト(Wavelet objects)は、直交ミラーフィルタ(quadrature mirror filters)やこれに関連する幾つかの一般的なプロパティのような離散ウェーブレット変換特有のデータの一式についての有用な媒介物(carriers)である。\n",
    "- ここでは、ウェーブレットオブジェクトを生成する方法を取り上げていく。\n",
    "- 最も単純かつ有益な方法となるのは、名付けられているウェーブレットを立ち上げることである。\n",
    "- これらのウェーブレットは、ウェーブレットの族(families)として組織化されている。一般的には以下のような族が使用されている。"
   ]
  },
  {
   "cell_type": "code",
   "execution_count": 3,
   "metadata": {
    "ExecuteTime": {
     "end_time": "2018-01-06T12:24:39.200025Z",
     "start_time": "2018-01-06T12:24:39.187516Z"
    }
   },
   "outputs": [
    {
     "data": {
      "text/plain": [
       "['haar',\n",
       " 'db',\n",
       " 'sym',\n",
       " 'coif',\n",
       " 'bior',\n",
       " 'rbio',\n",
       " 'dmey',\n",
       " 'gaus',\n",
       " 'mexh',\n",
       " 'morl',\n",
       " 'cgau',\n",
       " 'shan',\n",
       " 'fbsp',\n",
       " 'cmor']"
      ]
     },
     "execution_count": 3,
     "metadata": {},
     "output_type": "execute_result"
    }
   ],
   "source": [
    "import pywt\n",
    "pywt.families()"
   ]
  },
  {
   "cell_type": "markdown",
   "metadata": {},
   "source": [
    "- これらの `wavelist()` 関数に族の名前を引数として入力すると、各族におけるウェーブレットの名前のリストを得ることができる。"
   ]
  },
  {
   "cell_type": "code",
   "execution_count": 4,
   "metadata": {
    "ExecuteTime": {
     "end_time": "2018-01-06T12:27:17.982110Z",
     "start_time": "2018-01-06T12:27:17.969723Z"
    }
   },
   "outputs": [
    {
     "name": "stdout",
     "output_type": "stream",
     "text": [
      "haar family: haar\n",
      "db family: db1, db2, db3, db4, db5, db6, db7, db8, db9, db10, db11, db12, db13, db14, db15, db16, db17, db18, db19, db20, db21, db22, db23, db24, db25, db26, db27, db28, db29, db30, db31, db32, db33, db34, db35, db36, db37, db38\n",
      "sym family: sym2, sym3, sym4, sym5, sym6, sym7, sym8, sym9, sym10, sym11, sym12, sym13, sym14, sym15, sym16, sym17, sym18, sym19, sym20\n",
      "coif family: coif1, coif2, coif3, coif4, coif5, coif6, coif7, coif8, coif9, coif10, coif11, coif12, coif13, coif14, coif15, coif16, coif17\n",
      "bior family: bior1.1, bior1.3, bior1.5, bior2.2, bior2.4, bior2.6, bior2.8, bior3.1, bior3.3, bior3.5, bior3.7, bior3.9, bior4.4, bior5.5, bior6.8\n",
      "rbio family: rbio1.1, rbio1.3, rbio1.5, rbio2.2, rbio2.4, rbio2.6, rbio2.8, rbio3.1, rbio3.3, rbio3.5, rbio3.7, rbio3.9, rbio4.4, rbio5.5, rbio6.8\n",
      "dmey family: dmey\n",
      "gaus family: gaus1, gaus2, gaus3, gaus4, gaus5, gaus6, gaus7, gaus8\n",
      "mexh family: mexh\n",
      "morl family: morl\n",
      "cgau family: cgau1, cgau2, cgau3, cgau4, cgau5, cgau6, cgau7, cgau8\n",
      "shan family: shan\n",
      "fbsp family: fbsp\n",
      "cmor family: cmor\n"
     ]
    }
   ],
   "source": [
    "for family in pywt.families():\n",
    "    print(\"%s family: \" % family + \", \".join(pywt.wavelist(family)))"
   ]
  },
  {
   "cell_type": "markdown",
   "metadata": {},
   "source": [
    "- `wavelist()` 関数に引数を入力しなかった場合、全てのウェーブレットの名前を取得することができる。"
   ]
  },
  {
   "cell_type": "markdown",
   "metadata": {},
   "source": [
    "## ウェーブレットオブジェクトの生成\n",
    "\n",
    "- ウェーブレットオブジェクトを生成してみる。"
   ]
  },
  {
   "cell_type": "code",
   "execution_count": 5,
   "metadata": {
    "ExecuteTime": {
     "end_time": "2018-01-06T12:29:36.713662Z",
     "start_time": "2018-01-06T12:29:36.704924Z"
    },
    "collapsed": true
   },
   "outputs": [],
   "source": [
    "w = pywt.Wavelet(\"db3\")"
   ]
  },
  {
   "cell_type": "markdown",
   "metadata": {},
   "source": [
    "## ウェーブレットプロパティ\n",
    "\n",
    "- ウェーブレットオブジェクトを生成して観ると、幾つかの興味深い情報が得られる。\n",
    "- まずは生成したウェーブレットオブジェクトを単に出力してみる。\n",
    "- するとウェーブレットの名前に関する情報が得られる。その族の名前と幾つかのプロパティは、直交性と対称性を示している。"
   ]
  },
  {
   "cell_type": "code",
   "execution_count": 8,
   "metadata": {
    "ExecuteTime": {
     "end_time": "2018-01-06T12:32:54.880122Z",
     "start_time": "2018-01-06T12:32:54.873298Z"
    }
   },
   "outputs": [
    {
     "name": "stdout",
     "output_type": "stream",
     "text": [
      "Wavelet db3\n",
      "  Family name:    Daubechies\n",
      "  Short name:     db\n",
      "  Filters length: 6\n",
      "  Orthogonal:     True\n",
      "  Biorthogonal:   True\n",
      "  Symmetry:       asymmetric\n",
      "  DWT:            True\n",
      "  CWT:            False\n"
     ]
    }
   ],
   "source": [
    "print(w)"
   ]
  },
  {
   "cell_type": "markdown",
   "metadata": {},
   "source": [
    "- しかし重要なのはウェーブレットフィルタ係数(wavelet filters coefficients)に他ならない。この係数は離散ウェーブレット変換で利用する。\n",
    "- こうした係数は、 `dec_lo`、 `dec_hi`、 `rec_lo`、そして `rec_hi` などのような属性から得られる。\n",
    "    * これらはローパス分解フィルタ、ハイパス分解フィルタ、ローパス再構成フィルタ、ハイパス再構成フィルタに、それぞれ対応する。"
   ]
  },
  {
   "cell_type": "code",
   "execution_count": 9,
   "metadata": {
    "ExecuteTime": {
     "end_time": "2018-01-06T12:37:49.291564Z",
     "start_time": "2018-01-06T12:37:49.285739Z"
    },
    "collapsed": true
   },
   "outputs": [],
   "source": [
    "def print_array(arr):\n",
    "    print(\"[%s]\" % \", \".join([\"% 14f\" % x for x in arr]))"
   ]
  },
  {
   "cell_type": "code",
   "execution_count": 14,
   "metadata": {
    "ExecuteTime": {
     "end_time": "2018-01-06T12:40:27.226377Z",
     "start_time": "2018-01-06T12:40:27.216532Z"
    }
   },
   "outputs": [
    {
     "name": "stdout",
     "output_type": "stream",
     "text": [
      "[      0.035226,      -0.085441,      -0.135011,       0.459878,       0.806892,       0.332671]\n"
     ]
    }
   ],
   "source": [
    "print_array(w.dec_lo)"
   ]
  },
  {
   "cell_type": "code",
   "execution_count": 15,
   "metadata": {
    "ExecuteTime": {
     "end_time": "2018-01-06T12:40:40.755474Z",
     "start_time": "2018-01-06T12:40:40.749876Z"
    }
   },
   "outputs": [
    {
     "name": "stdout",
     "output_type": "stream",
     "text": [
      "[     -0.332671,       0.806892,      -0.459878,      -0.135011,       0.085441,       0.035226]\n"
     ]
    }
   ],
   "source": [
    "print_array(w.dec_hi)"
   ]
  },
  {
   "cell_type": "code",
   "execution_count": 16,
   "metadata": {
    "ExecuteTime": {
     "end_time": "2018-01-06T12:40:57.501209Z",
     "start_time": "2018-01-06T12:40:57.494150Z"
    }
   },
   "outputs": [
    {
     "name": "stdout",
     "output_type": "stream",
     "text": [
      "[      0.332671,       0.806892,       0.459878,      -0.135011,      -0.085441,       0.035226]\n"
     ]
    }
   ],
   "source": [
    "print_array(w.rec_lo)"
   ]
  },
  {
   "cell_type": "code",
   "execution_count": 17,
   "metadata": {
    "ExecuteTime": {
     "end_time": "2018-01-06T12:41:07.549140Z",
     "start_time": "2018-01-06T12:41:07.541687Z"
    }
   },
   "outputs": [
    {
     "name": "stdout",
     "output_type": "stream",
     "text": [
      "[      0.035226,       0.085441,      -0.135011,      -0.459878,       0.806892,      -0.332671]\n"
     ]
    }
   ],
   "source": [
    "print_array(w.rec_hi)"
   ]
  },
  {
   "cell_type": "markdown",
   "metadata": {
    "ExecuteTime": {
     "end_time": "2018-01-06T12:38:39.658781Z",
     "start_time": "2018-01-06T12:38:39.654098Z"
    }
   },
   "source": [
    "- また、これらの属性は `filter_bank` の属性とも次のように一致する。"
   ]
  },
  {
   "cell_type": "code",
   "execution_count": 13,
   "metadata": {
    "ExecuteTime": {
     "end_time": "2018-01-06T12:40:02.810273Z",
     "start_time": "2018-01-06T12:40:02.804840Z"
    }
   },
   "outputs": [
    {
     "data": {
      "text/plain": [
       "True"
      ]
     },
     "execution_count": 13,
     "metadata": {},
     "output_type": "execute_result"
    }
   ],
   "source": [
    "w.filter_bank == (w.dec_lo, w.dec_hi, w.rec_lo, w.rec_hi)"
   ]
  },
  {
   "cell_type": "markdown",
   "metadata": {},
   "source": [
    "- その他のウェーブレットプロパティとして挙げられるのは、 `name`、 `short_family_name` 、そして `family_name` である。"
   ]
  },
  {
   "cell_type": "code",
   "execution_count": 18,
   "metadata": {
    "ExecuteTime": {
     "end_time": "2018-01-06T12:42:18.624633Z",
     "start_time": "2018-01-06T12:42:18.614885Z"
    }
   },
   "outputs": [
    {
     "name": "stdout",
     "output_type": "stream",
     "text": [
      "db3\n"
     ]
    }
   ],
   "source": [
    "print(w.name)"
   ]
  },
  {
   "cell_type": "code",
   "execution_count": 19,
   "metadata": {
    "ExecuteTime": {
     "end_time": "2018-01-06T12:42:22.394235Z",
     "start_time": "2018-01-06T12:42:22.388203Z"
    }
   },
   "outputs": [
    {
     "name": "stdout",
     "output_type": "stream",
     "text": [
      "db\n"
     ]
    }
   ],
   "source": [
    "print(w.short_family_name)"
   ]
  },
  {
   "cell_type": "code",
   "execution_count": 20,
   "metadata": {
    "ExecuteTime": {
     "end_time": "2018-01-06T12:42:27.154602Z",
     "start_time": "2018-01-06T12:42:27.147746Z"
    }
   },
   "outputs": [
    {
     "name": "stdout",
     "output_type": "stream",
     "text": [
      "Daubechies\n"
     ]
    }
   ],
   "source": [
    "print(w.family_name)"
   ]
  },
  {
   "cell_type": "markdown",
   "metadata": {},
   "source": [
    "- 分解においては `dec_len` が、 再構成においては `rec_len` が、それぞれフィルタの長さを指し示す。"
   ]
  },
  {
   "cell_type": "code",
   "execution_count": 28,
   "metadata": {
    "ExecuteTime": {
     "end_time": "2018-01-06T12:46:42.545221Z",
     "start_time": "2018-01-06T12:46:42.540215Z"
    }
   },
   "outputs": [
    {
     "name": "stdout",
     "output_type": "stream",
     "text": [
      "6\n"
     ]
    }
   ],
   "source": [
    "print(w.dec_len)"
   ]
  },
  {
   "cell_type": "code",
   "execution_count": 27,
   "metadata": {
    "ExecuteTime": {
     "end_time": "2018-01-06T12:46:38.258293Z",
     "start_time": "2018-01-06T12:46:38.253338Z"
    }
   },
   "outputs": [
    {
     "name": "stdout",
     "output_type": "stream",
     "text": [
      "6\n"
     ]
    }
   ],
   "source": [
    "print(w.rec_len)"
   ]
  },
  {
   "cell_type": "markdown",
   "metadata": {},
   "source": [
    "- 直交性と双直交性も確認することができる。"
   ]
  },
  {
   "cell_type": "code",
   "execution_count": 29,
   "metadata": {
    "ExecuteTime": {
     "end_time": "2018-01-06T12:46:50.220824Z",
     "start_time": "2018-01-06T12:46:50.215919Z"
    }
   },
   "outputs": [
    {
     "name": "stdout",
     "output_type": "stream",
     "text": [
      "True\n"
     ]
    }
   ],
   "source": [
    "print(w.orthogonal)"
   ]
  },
  {
   "cell_type": "code",
   "execution_count": 32,
   "metadata": {
    "ExecuteTime": {
     "end_time": "2018-01-06T12:47:00.034666Z",
     "start_time": "2018-01-06T12:47:00.025388Z"
    }
   },
   "outputs": [
    {
     "name": "stdout",
     "output_type": "stream",
     "text": [
      "True\n"
     ]
    }
   ],
   "source": [
    "print(w.biorthogonal)"
   ]
  },
  {
   "cell_type": "markdown",
   "metadata": {},
   "source": [
    "- 対称性も確認できる。"
   ]
  },
  {
   "cell_type": "code",
   "execution_count": 33,
   "metadata": {
    "ExecuteTime": {
     "end_time": "2018-01-06T12:47:05.122326Z",
     "start_time": "2018-01-06T12:47:05.117465Z"
    }
   },
   "outputs": [
    {
     "name": "stdout",
     "output_type": "stream",
     "text": [
      "asymmetric\n"
     ]
    }
   ],
   "source": [
    "print(w.symmetry)"
   ]
  },
  {
   "cell_type": "markdown",
   "metadata": {},
   "source": [
    "- スケーリング関数 $\\phi$ の消失時点の個数とウェーブレット関数 $\\psi$ は、上記のフィルタに関連している。"
   ]
  },
  {
   "cell_type": "code",
   "execution_count": 34,
   "metadata": {
    "ExecuteTime": {
     "end_time": "2018-01-06T12:49:11.634968Z",
     "start_time": "2018-01-06T12:49:11.625904Z"
    }
   },
   "outputs": [
    {
     "data": {
      "text/plain": [
       "0"
      ]
     },
     "execution_count": 34,
     "metadata": {},
     "output_type": "execute_result"
    }
   ],
   "source": [
    "w.vanishing_moments_phi"
   ]
  },
  {
   "cell_type": "code",
   "execution_count": 35,
   "metadata": {
    "ExecuteTime": {
     "end_time": "2018-01-06T12:49:15.603491Z",
     "start_time": "2018-01-06T12:49:15.596861Z"
    }
   },
   "outputs": [
    {
     "data": {
      "text/plain": [
       "3"
      ]
     },
     "execution_count": 35,
     "metadata": {},
     "output_type": "execute_result"
    }
   ],
   "source": [
    "w.vanishing_moments_psi"
   ]
  },
  {
   "cell_type": "markdown",
   "metadata": {},
   "source": [
    "### ウェーブレットオブジェクトの生成は如何にして可能になっているのか\n",
    "\n",
    "- 生成されたウェーブレットの特性を知るために、自前のウェーブレットオブジェクトが如何にして生成されるのかを確認していく。\n",
    "- この生成は、基本的に次の二つの方法で進められる。"
   ]
  },
  {
   "cell_type": "markdown",
   "metadata": {},
   "source": [
    "#### `filter_bank` の属性を有したフィルターバンクオブジェクトを委譲する\n",
    "- この属性は4つのフィルタ係数を返さなければならない。"
   ]
  },
  {
   "cell_type": "code",
   "execution_count": 37,
   "metadata": {
    "ExecuteTime": {
     "end_time": "2018-01-06T12:54:08.527332Z",
     "start_time": "2018-01-06T12:54:08.519670Z"
    }
   },
   "outputs": [],
   "source": [
    "from math import sqrt\n",
    "class MyHaarFilterBank(object):\n",
    "    @property\n",
    "    def filter_bank(self):\n",
    "        return ([sqrt(2) / 2, sqrt(2) / 2], [-sqrt(2) / 2, sqrt(2) / 2],\n",
    "                [sqrt(2) / 2, sqrt(2) / 2], [sqrt(2) / 2, -sqrt(2) / 2]\n",
    "               )"
   ]
  },
  {
   "cell_type": "code",
   "execution_count": 38,
   "metadata": {
    "ExecuteTime": {
     "end_time": "2018-01-06T12:54:40.294861Z",
     "start_time": "2018-01-06T12:54:40.256477Z"
    },
    "collapsed": true
   },
   "outputs": [],
   "source": [
    "my_wavelet = pywt.Wavelet(\"My Haar Wavelet\", filter_bank=MyHaarFilterBank())"
   ]
  },
  {
   "cell_type": "markdown",
   "metadata": {},
   "source": [
    "#### `filter_bank` パラメタにフィルター係数を直接入力する"
   ]
  },
  {
   "cell_type": "code",
   "execution_count": 39,
   "metadata": {
    "ExecuteTime": {
     "end_time": "2018-01-06T12:57:29.903071Z",
     "start_time": "2018-01-06T12:57:29.892489Z"
    },
    "collapsed": true
   },
   "outputs": [],
   "source": [
    "from math import sqrt\n",
    "my_filter_bank = ([sqrt(2) / 2, sqrt(2) / 2], [-sqrt(2) / 2, sqrt(2) / 2],\n",
    "                  [sqrt(2) / 2, sqrt(2) / 2], [sqrt(2) / 2, -sqrt(2) / 2]\n",
    "                 )\n",
    "my_wavelet = pywt.Wavelet(\"My Haar Wavelet\", filter_bank=my_filter_bank)"
   ]
  },
  {
   "cell_type": "markdown",
   "metadata": {},
   "source": [
    "### ウェーブレットプロパティ\n",
    "\n",
    "- `my_wavelet` には全てのウェーブレットプロパティが正確な値としてセットされている訳ではない。"
   ]
  },
  {
   "cell_type": "code",
   "execution_count": 40,
   "metadata": {
    "ExecuteTime": {
     "end_time": "2018-01-06T12:58:51.599642Z",
     "start_time": "2018-01-06T12:58:51.592046Z"
    }
   },
   "outputs": [
    {
     "name": "stdout",
     "output_type": "stream",
     "text": [
      "Wavelet My Haar Wavelet\n",
      "  Family name:\n",
      "  Short name:\n",
      "  Filters length: 2\n",
      "  Orthogonal:     False\n",
      "  Biorthogonal:   False\n",
      "  Symmetry:       unknown\n",
      "  DWT:            True\n",
      "  CWT:            False\n"
     ]
    }
   ],
   "source": [
    "print(my_wavelet)"
   ]
  },
  {
   "cell_type": "markdown",
   "metadata": {},
   "source": [
    "- 自前でセットすることができる。"
   ]
  },
  {
   "cell_type": "code",
   "execution_count": 41,
   "metadata": {
    "ExecuteTime": {
     "end_time": "2018-01-06T12:59:34.698559Z",
     "start_time": "2018-01-06T12:59:34.692721Z"
    },
    "collapsed": true
   },
   "outputs": [],
   "source": [
    "my_wavelet.orthogonal = True\n",
    "my_wavelet.biorthogonal = True"
   ]
  },
  {
   "cell_type": "code",
   "execution_count": 42,
   "metadata": {
    "ExecuteTime": {
     "end_time": "2018-01-06T12:59:41.886589Z",
     "start_time": "2018-01-06T12:59:41.880092Z"
    }
   },
   "outputs": [
    {
     "name": "stdout",
     "output_type": "stream",
     "text": [
      "Wavelet My Haar Wavelet\n",
      "  Family name:\n",
      "  Short name:\n",
      "  Filters length: 2\n",
      "  Orthogonal:     True\n",
      "  Biorthogonal:   True\n",
      "  Symmetry:       unknown\n",
      "  DWT:            True\n",
      "  CWT:            False\n"
     ]
    }
   ],
   "source": [
    "print(my_wavelet)"
   ]
  },
  {
   "cell_type": "markdown",
   "metadata": {},
   "source": [
    "## `wavefun` 関数の機能\n",
    "\n",
    "- ウェーブレットの計算とスケーリング関数近似を目指したのが `wavefun` 関数である。\n",
    "- この関数は、フィルタ係数に準拠した上で、スケーリング関数 $\\phi$ とウェーブレット関数 $\\psi$ を与えられた改善の水準で近似するために利用される。\n",
    "- この関数の返り値は、ウェーブレットの直交性のプロパティに依存した上で、可変である。\n",
    "- 直交性を有したウェーブレットにおいて、この関数の実行結果はスケーリング関数、ウェーブレット関数、そしてxgrid座標のTupleになる。"
   ]
  },
  {
   "cell_type": "code",
   "execution_count": 43,
   "metadata": {
    "ExecuteTime": {
     "end_time": "2018-01-06T13:06:34.052513Z",
     "start_time": "2018-01-06T13:06:34.046432Z"
    }
   },
   "outputs": [
    {
     "name": "stdout",
     "output_type": "stream",
     "text": [
      "True\n"
     ]
    }
   ],
   "source": [
    "w = pywt.Wavelet(\"sym3\")\n",
    "print(w.orthogonal)"
   ]
  },
  {
   "cell_type": "code",
   "execution_count": 44,
   "metadata": {
    "ExecuteTime": {
     "end_time": "2018-01-06T13:06:46.483921Z",
     "start_time": "2018-01-06T13:06:46.471072Z"
    },
    "collapsed": true
   },
   "outputs": [],
   "source": [
    "(phi, psi, x) = w.wavefun(level=5)"
   ]
  },
  {
   "cell_type": "markdown",
   "metadata": {},
   "source": [
    "- 双直交性（非直交性）のウェーブレットにおいては、異なるスケーリング関数とウェーブレット関数が分解と再構成に利用される。\n",
    "- そしてそれ故に、上記の関数からは次の5つの返り値が返されることになる。\n",
    "    1. 分解におけるスケーリング関数の近似\n",
    "    2. 分解におけるウェーブレット関数の近似\n",
    "    3. 再構成におけるスケーリング関数の近似\n",
    "    4. 再構成におけるウェーブレット関数の近似\n",
    "    5. xgrid座標"
   ]
  },
  {
   "cell_type": "code",
   "execution_count": 49,
   "metadata": {
    "ExecuteTime": {
     "end_time": "2018-01-06T13:10:33.291964Z",
     "start_time": "2018-01-06T13:10:33.284519Z"
    }
   },
   "outputs": [
    {
     "name": "stdout",
     "output_type": "stream",
     "text": [
      "False\n"
     ]
    }
   ],
   "source": [
    "w = pywt.Wavelet(\"bior1.3\")\n",
    "print(w.orthogonal)"
   ]
  },
  {
   "cell_type": "code",
   "execution_count": 50,
   "metadata": {
    "ExecuteTime": {
     "end_time": "2018-01-06T13:10:58.838391Z",
     "start_time": "2018-01-06T13:10:58.832359Z"
    },
    "collapsed": true
   },
   "outputs": [],
   "source": [
    "(phi_d, psi_d, phi_r, psi_r, x) = w.wavefun(level=5)"
   ]
  },
  {
   "cell_type": "markdown",
   "metadata": {},
   "source": [
    "# 参考資料\n",
    "\n",
    "- [The Wavelet object &#8212; PyWavelets Documentation](https://pywavelets.readthedocs.io/en/latest/regression/wavelet.html) (アクセス日時: 2018/01/06 22:13)"
   ]
  },
  {
   "cell_type": "code",
   "execution_count": null,
   "metadata": {
    "collapsed": true
   },
   "outputs": [],
   "source": []
  }
 ],
 "metadata": {
  "kernelspec": {
   "display_name": "Python 3",
   "language": "python",
   "name": "python3"
  },
  "language_info": {
   "codemirror_mode": {
    "name": "ipython",
    "version": 3
   },
   "file_extension": ".py",
   "mimetype": "text/x-python",
   "name": "python",
   "nbconvert_exporter": "python",
   "pygments_lexer": "ipython3",
   "version": "3.6.1"
  },
  "nbTranslate": {
   "displayLangs": [
    "*"
   ],
   "hotkey": "alt-t",
   "langInMainMenu": true,
   "sourceLang": "en",
   "targetLang": "fr",
   "useGoogleTranslate": true
  },
  "toc": {
   "nav_menu": {},
   "number_sections": true,
   "sideBar": true,
   "skip_h1_title": true,
   "toc_cell": false,
   "toc_position": {},
   "toc_section_display": "block",
   "toc_window_display": false
  }
 },
 "nbformat": 4,
 "nbformat_minor": 2
}
